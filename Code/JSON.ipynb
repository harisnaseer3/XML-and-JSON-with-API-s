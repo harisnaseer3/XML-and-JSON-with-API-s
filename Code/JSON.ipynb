{
 "cells": [
  {
   "cell_type": "markdown",
   "metadata": {},
   "source": [
    "# JavaScript Object Notation(JSON)"
   ]
  },
  {
   "cell_type": "markdown",
   "metadata": {},
   "source": [
    "it is very native to javascript. it is just like dictionary starts with curly braces. it represent data as nested \"lists\" and \"dictionaries\"."
   ]
  },
  {
   "cell_type": "code",
   "execution_count": 1,
   "metadata": {},
   "outputs": [
    {
     "name": "stdout",
     "output_type": "stream",
     "text": [
      "name: haris\n",
      "number: 3441518890\n",
      "type: intl\n",
      "hide: yes\n"
     ]
    }
   ],
   "source": [
    "import json\n",
    "data = '''{\n",
    "    \"name\" : \"haris\",\n",
    "    \"phone\" : {\n",
    "        \"type\" : \"intl\",\n",
    "        \"number\" : \"3441518890\"\n",
    "    },\n",
    "    \"email\" : {\n",
    "        \"hide\" : \"yes\"\n",
    "    }\n",
    "}'''\n",
    "\n",
    "info = json.loads(data)\n",
    "print('name:',info[\"name\"])\n",
    "print('number:',info[\"phone\"][\"number\"])\n",
    "print('type:',info[\"phone\"][\"type\"])\n",
    "print('hide:',info[\"email\"][\"hide\"])"
   ]
  },
  {
   "cell_type": "code",
   "execution_count": 2,
   "metadata": {},
   "outputs": [
    {
     "name": "stdout",
     "output_type": "stream",
     "text": [
      "user count: 4\n",
      "user: 45\n",
      "id: 001\n",
      "name: haris\n",
      "user: 46\n",
      "id: 004\n",
      "name: mani\n",
      "user: 56\n",
      "id: 002\n",
      "name: jawad\n",
      "user: 6\n",
      "id: 003\n",
      "name: azhar\n"
     ]
    }
   ],
   "source": [
    "#example of list\n",
    "#list always start with square bracket\n",
    "import json\n",
    "input = '''\n",
    "[\n",
    "    { \"id\" : \"001\",\n",
    "      \"user\" : \"45\",\n",
    "      \"name\" : \"haris\"\n",
    "    } ,\n",
    "    { \"id\" : \"004\",\n",
    "      \"user\" : \"46\",\n",
    "      \"name\" : \"mani\"\n",
    "    },\n",
    "    { \"id\" : \"002\",\n",
    "      \"user\" : \"56\",\n",
    "      \"name\" : \"jawad\"\n",
    "    } ,\n",
    "    { \"id\" : \"003\",\n",
    "      \"user\" : \"6\",\n",
    "      \"name\" : \"azhar\"\n",
    "    }\n",
    "]'''\n",
    "\n",
    "info = json.loads(input)\n",
    "print('user count:', len(info))\n",
    "for item in info:\n",
    "    print(\"user:\", item['user'])\n",
    "    print(\"id:\", item['id'])\n",
    "    print(\"name:\", item['name'])"
   ]
  },
  {
   "cell_type": "markdown",
   "metadata": {},
   "source": [
    "# # Extracting Data from JSON"
   ]
  },
  {
   "cell_type": "markdown",
   "metadata": {},
   "source": [
    "the program will prompt for a URL, read the JSON data from that URL using urllib and then parse and extract the comment counts from the JSON data, compute the sum of the numbers in the file and enter the sum below"
   ]
  },
  {
   "cell_type": "code",
   "execution_count": 3,
   "metadata": {},
   "outputs": [
    {
     "name": "stdout",
     "output_type": "stream",
     "text": [
      "retrieving URL\n",
      "2531\n"
     ]
    }
   ],
   "source": [
    "import json\n",
    "import urllib\n",
    "from urllib import request\n",
    "count = 0\n",
    "\n",
    "url = \"http://py4e-data.dr-chuck.net/comments_751567.json\"\n",
    "print (\"retrieving URL\")\n",
    "uh = request.urlopen(url)\n",
    "data= uh.read()\n",
    "\n",
    "info = json.loads(data)\n",
    "for item in info[\"comments\"]:\n",
    "\t#print item[\"count\"]\n",
    "\tnumber = int(item[\"count\"])\n",
    "\tcount = count + number\n",
    "print(count)"
   ]
  },
  {
   "cell_type": "markdown",
   "metadata": {},
   "source": [
    "same example with different Code steps"
   ]
  },
  {
   "cell_type": "code",
   "execution_count": 4,
   "metadata": {},
   "outputs": [
    {
     "name": "stdout",
     "output_type": "stream",
     "text": [
      "Counts  1\n",
      "Sum :  2531\n"
     ]
    }
   ],
   "source": [
    "import urllib.request\n",
    "import json\n",
    "\n",
    "url =  \"http://py4e-data.dr-chuck.net/comments_751567.json\"\n",
    "\n",
    "info = json.loads(urllib.request.urlopen(url).read())\n",
    "\n",
    "x = 0\n",
    "counts=0\n",
    "for items in info['comments']:\n",
    "\n",
    "    x = x + int(items['count'])\n",
    "counts = counts + 1\n",
    "print ('Counts ',(counts))\n",
    "print ('Sum : ',(x))\n",
    "\n",
    "#xd, late"
   ]
  },
  {
   "cell_type": "markdown",
   "metadata": {},
   "source": [
    "# Service Oriented Approach/Application program interfaces(API)"
   ]
  },
  {
   "cell_type": "markdown",
   "metadata": {},
   "source": [
    "ways to use web protocol to access data on systems using well defined structures approaches"
   ]
  },
  {
   "cell_type": "raw",
   "metadata": {},
   "source": [
    "geojson API / google API (search location anywhere in the world)"
   ]
  },
  {
   "cell_type": "code",
   "execution_count": null,
   "metadata": {},
   "outputs": [],
   "source": [
    "import urllib.request, urllib.parse, urllib.error\n",
    "import json\n",
    "import ssl\n",
    "\n",
    "api_key = False\n",
    "# If you have a Google Places API key, enter it here\n",
    "# api_key = 'AIzaSy___IDByT70'\n",
    "# https://developers.google.com/maps/documentation/geocoding/intro\n",
    "\n",
    "if api_key is False:\n",
    "    api_key = 42\n",
    "    serviceurl = 'http://py4e-data.dr-chuck.net/json?'\n",
    "else :\n",
    "    serviceurl = 'https://maps.googleapis.com/maps/api/geocode/json?'\n",
    "\n",
    "# Ignore SSL certificate errors\n",
    "ctx = ssl.create_default_context()\n",
    "ctx.check_hostname = False\n",
    "ctx.verify_mode = ssl.CERT_NONE\n",
    "\n",
    "while True:\n",
    "    address = input('Enter location: ')\n",
    "    if len(address) < 1: break\n",
    "\n",
    "    parms = dict()\n",
    "    parms['address'] = address\n",
    "    if api_key is not False: parms['key'] = api_key\n",
    "    url = serviceurl + urllib.parse.urlencode(parms)\n",
    "\n",
    "    print('Retrieving', url)\n",
    "    uh = urllib.request.urlopen(url, context=ctx)\n",
    "    data = uh.read().decode()\n",
    "    print('Retrieved', len(data), 'characters')\n",
    "\n",
    "    try:\n",
    "        js = json.loads(data)\n",
    "    except:\n",
    "        js = None\n",
    "\n",
    "    if not js or 'status' not in js or js['status'] != 'OK':\n",
    "        print('==== Failure To Retrieve ====')\n",
    "        print(data)\n",
    "        continue\n",
    "\n",
    "    print(json.dumps(js, indent=4))\n",
    "\n",
    "    lat = js['results'][0]['geometry']['location']['lat']\n",
    "    lng = js['results'][0]['geometry']['location']['lng']\n",
    "    print('lat', lat, 'lng', lng)\n",
    "    location = js['results'][0]['formatted_address']\n",
    "    print(location)"
   ]
  },
  {
   "cell_type": "markdown",
   "metadata": {},
   "source": [
    "# Calling a JSON API"
   ]
  },
  {
   "cell_type": "markdown",
   "metadata": {},
   "source": [
    "The program will prompt for a location, contact a web service and retrieve JSON for the web service and parse that data, and retrieve the first place_id from the JSON. A place ID is a textual identifier that uniquely identifies a place as within Google Maps."
   ]
  },
  {
   "cell_type": "code",
   "execution_count": null,
   "metadata": {},
   "outputs": [],
   "source": [
    "import json,ssl\n",
    "import urllib.request,urllib.parse, urllib.error\n",
    "\n",
    "\n",
    "\n",
    "# Ignore SSL certificate errors\n",
    "ctx = ssl.create_default_context()\n",
    "ctx.check_hostname = False\n",
    "ctx.verify_mode = ssl.CERT_NONE\n",
    "\n",
    "\n",
    "\n",
    "#Stroring the given parameters\n",
    "api_key = 42\n",
    "serviceurl = \"http://py4e-data.dr-chuck.net/json?\"\n",
    "# sample_address = \"South Federal University\"\n",
    "data_address = \"Instituto Tecnologico de Santo Domingo\"\n",
    "address_wanted = data_address\n",
    "\n",
    "#Setting the GET parameters on the URL\n",
    "parameters = {\"address\": address_wanted, \"key\":api_key}\n",
    "paramsurl = urllib.parse.urlencode(parameters)\n",
    "\n",
    "#Generating the complete URL. Printing it in order to check if it's correct.\n",
    "queryurl = serviceurl.strip() + paramsurl.strip()\n",
    "print(\"DATA URL: \", queryurl)\n",
    "\n",
    "#Obtaining and reading the data\n",
    "try :\n",
    "    data_read = urllib.request.urlopen(queryurl , context=ctx).read()\n",
    "    data = data_read.decode()\n",
    "    # Parsing the data and looking for the field we want.\n",
    "    jsondata = json.loads(data)\n",
    "    print(jsondata)\n",
    "    place_id = jsondata[\"results\"][0][\"place_id\"]\n",
    "    print(\"PLACE ID: \", place_id)\n",
    "except:\n",
    "    print(\"Error.....\")\n",
    "    print(\"-\"*50)\n",
    "    print(data)"
   ]
  }
 ],
 "metadata": {
  "kernelspec": {
   "display_name": "Python 3",
   "language": "python",
   "name": "python3"
  },
  "language_info": {
   "codemirror_mode": {
    "name": "ipython",
    "version": 3
   },
   "file_extension": ".py",
   "mimetype": "text/x-python",
   "name": "python",
   "nbconvert_exporter": "python",
   "pygments_lexer": "ipython3",
   "version": "3.7.6"
  }
 },
 "nbformat": 4,
 "nbformat_minor": 4
}
