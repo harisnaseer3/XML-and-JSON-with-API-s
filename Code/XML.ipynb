{
 "cells": [
  {
   "cell_type": "markdown",
   "metadata": {},
   "source": [
    "eXtensible Markup Language (XML)\n",
    "\n",
    "represent data going between application and across networks.\n",
    "\n",
    "there are two commonly used formate: XML and JSON"
   ]
  },
  {
   "cell_type": "raw",
   "metadata": {},
   "source": [
    "simple element\n",
    "<people>\n",
    "    <person>\n",
    "        <name>haris</name>\n",
    "        <phone>1518890</phone>\n",
    "    </person>\n",
    "    \n",
    "XML basics:\n",
    "start tag: <>\n",
    "end tag: </>\n",
    "\n",
    "<phone type=\"intl\">\n",
    "74568376428\n",
    "attribute: <email hide=\"yes\">"
   ]
  },
  {
   "cell_type": "markdown",
   "metadata": {},
   "source": [
    "Primary purpose os to help information systems share structured data. it stated as a spmplified subset of the standard generalized markup language (SGML), and is designed to be relatively human-legible. white space does not matter in XML.\n",
    "\n",
    "XML validation schema: Validation is the act of verifying that the data is in the right format. It's a contract. And so XML validation is the act of taking an document and a Schema Contract, which itself is also an XML document, and then sending to the Validator."
   ]
  },
  {
   "cell_type": "markdown",
   "metadata": {},
   "source": [
    "# now start XML in python"
   ]
  },
  {
   "cell_type": "markdown",
   "metadata": {},
   "source": [
    "first we need to import XML liberary. xml.etree.ElementTree\n",
    "\n",
    "'''(triple coded string) it is a multiline string in python"
   ]
  },
  {
   "cell_type": "code",
   "execution_count": 3,
   "metadata": {},
   "outputs": [
    {
     "name": "stdout",
     "output_type": "stream",
     "text": [
      "Name: haris\n",
      "Attr: yes\n",
      "phone: \n",
      "    1518890\n",
      "    \n"
     ]
    }
   ],
   "source": [
    "import xml.etree.ElementTree as ET\n",
    "#whole data is in string. its emulating like urllib or read\n",
    "data =  '''<person>\n",
    "    <name>haris</name>\n",
    "    <phone type=\"intl\">\n",
    "    1518890\n",
    "    </phone>\n",
    "    <email hide=\"yes\"/>\n",
    "</person>'''\n",
    "    \n",
    "#now we have to parse it like beautifulSoup in html.\n",
    "#we give this string data and fromstring give us object data back\n",
    "#and work with that object.\n",
    "\n",
    "#passing string data ET.fromstring and it give us back a tree of object\n",
    "tree = ET.fromstring(data)\n",
    "print('Name:',tree.find('name').text)\n",
    "print('Attr:',tree.find('email').get('hide'))\n",
    "print('phone:',tree.find('phone').text)"
   ]
  },
  {
   "cell_type": "code",
   "execution_count": 4,
   "metadata": {},
   "outputs": [
    {
     "name": "stdout",
     "output_type": "stream",
     "text": [
      "user count: 2\n",
      "name: haris\n",
      "id: 003\n",
      "Attribute: 2\n",
      "name: mani\n",
      "id: 056\n",
      "Attribute: 5\n"
     ]
    }
   ],
   "source": [
    "import xml.etree.ElementTree as ET\n",
    "input = '''\n",
    "<stuff>\n",
    "    <users>\n",
    "        <user x=\"2\">\n",
    "            <id>003</id>\n",
    "            <name>haris</name>\n",
    "        </user>\n",
    "        <user x=\"5\">\n",
    "            <id>056</id>\n",
    "            <name>mani</name>\n",
    "        </user>\n",
    "    </users>\n",
    "</stuff>'''\n",
    "\n",
    "#now parse the data\n",
    "stuff = ET.fromstring(input)\n",
    "#list of all user under the users tag\n",
    "lst = stuff.findall('users/user')\n",
    "print('user count:',len(lst))\n",
    "for item in lst:\n",
    "    print('name:',item.find('name').text)\n",
    "    print('id:',item.find('id').text)\n",
    "    print('Attribute:',item.get(\"x\"))"
   ]
  },
  {
   "cell_type": "markdown",
   "metadata": {},
   "source": [
    "now,\n",
    "\n",
    "the program will prompt for a URL, read the XML data from that URL using urllib and then parse and extract the comment counts from the XML data, compute the sum of the numbers in the file."
   ]
  },
  {
   "cell_type": "code",
   "execution_count": 5,
   "metadata": {},
   "outputs": [
    {
     "name": "stdout",
     "output_type": "stream",
     "text": [
      "Retrieving http://py4e-data.dr-chuck.net/comments_751566.xml\n",
      "Retrieved 4215 characters\n",
      "count: 50\n",
      "sum: 2097.0\n"
     ]
    }
   ],
   "source": [
    "from urllib import request\n",
    "import xml.etree.ElementTree as ET\n",
    "\n",
    "url = 'http://py4e-data.dr-chuck.net/comments_751566.xml'\n",
    "\n",
    "print (\"Retrieving\", url)\n",
    "html = request.urlopen(url)\n",
    "data = html.read()\n",
    "print(\"Retrieved\",len(data),\"characters\")\n",
    "\n",
    "tree = ET.fromstring(data)\n",
    "results = tree.findall('comments/comment')\n",
    "count = len(results)\n",
    "sum=0\n",
    "\n",
    "for result in results:\n",
    "    sum +=float(result.find('count').text)\n",
    "print(\"count:\",count)\n",
    "print('sum:',sum)"
   ]
  },
  {
   "cell_type": "markdown",
   "metadata": {},
   "source": [
    "# geoXML API"
   ]
  },
  {
   "cell_type": "code",
   "execution_count": null,
   "metadata": {},
   "outputs": [],
   "source": [
    "import urllib.request, urllib.parse, urllib.error\n",
    "import xml.etree.ElementTree as ET\n",
    "import ssl\n",
    "\n",
    "api_key = False\n",
    "# If you have a Google Places API key, enter it here\n",
    "# api_key = 'AIzaSy___IDByT70'\n",
    "# https://developers.google.com/maps/documentation/geocoding/intro\n",
    "\n",
    "if api_key is False:\n",
    "    api_key = 42\n",
    "    serviceurl = 'http://py4e-data.dr-chuck.net/xml?'\n",
    "else :\n",
    "    serviceurl = 'https://maps.googleapis.com/maps/api/geocode/xml?'\n",
    "\n",
    "# Ignore SSL certificate errors\n",
    "ctx = ssl.create_default_context()\n",
    "ctx.check_hostname = False\n",
    "ctx.verify_mode = ssl.CERT_NONE\n",
    "\n",
    "while True:\n",
    "    address = input('Enter location: ')\n",
    "    if len(address) < 1: break\n",
    "\n",
    "    parms = dict()\n",
    "    parms['address'] = address\n",
    "    if api_key is not False: parms['key'] = api_key\n",
    "    url = serviceurl + urllib.parse.urlencode(parms)\n",
    "    print('Retrieving', url)\n",
    "    uh = urllib.request.urlopen(url, context=ctx)\n",
    "\n",
    "    data = uh.read()\n",
    "    print('Retrieved', len(data), 'characters')\n",
    "    print(data.decode())\n",
    "    tree = ET.fromstring(data)\n",
    "\n",
    "    results = tree.findall('result')\n",
    "    lat = results[0].find('geometry').find('location').find('lat').text\n",
    "    lng = results[0].find('geometry').find('location').find('lng').text\n",
    "    location = results[0].find('formatted_address').text\n",
    "\n",
    "    print('lat', lat, 'lng', lng)\n",
    "    print(location)"
   ]
  }
 ],
 "metadata": {
  "kernelspec": {
   "display_name": "Python 3",
   "language": "python",
   "name": "python3"
  },
  "language_info": {
   "codemirror_mode": {
    "name": "ipython",
    "version": 3
   },
   "file_extension": ".py",
   "mimetype": "text/x-python",
   "name": "python",
   "nbconvert_exporter": "python",
   "pygments_lexer": "ipython3",
   "version": "3.7.6"
  }
 },
 "nbformat": 4,
 "nbformat_minor": 4
}
